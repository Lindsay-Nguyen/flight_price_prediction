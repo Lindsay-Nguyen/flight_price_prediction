{
 "cells": [
  {
   "cell_type": "code",
   "execution_count": 1,
   "id": "1291503f",
   "metadata": {},
   "outputs": [
    {
     "name": "stdout",
     "output_type": "stream",
     "text": [
      "[0 1 2]\n",
      "stop\n",
      "1    166627\n",
      "0     27942\n",
      "2     12205\n",
      "Name: count, dtype: int64\n"
     ]
    }
   ],
   "source": [
    "import pandas as pd\n",
    "\n",
    "# Load dataset\n",
    "df_business = pd.read_csv(\"economy.csv\")\n",
    "\n",
    "# Clean the stop column in bulk\n",
    "df_business[\"stop\"] = (\n",
    "    df_business[\"stop\"]\n",
    "    .astype(str)\n",
    "    .str.lower()\n",
    "    .str.strip()\n",
    "    .str.replace('\"', '', regex=False)\n",
    "    .str.replace(\"non-stop\", \"0\", regex=False)\n",
    "    .str.replace(\"-stop\", \"\", regex=False)\n",
    "    .str.replace(r\"\\D\", \"\", regex=True)   # remove non-digits\n",
    ")\n",
    "\n",
    "# Convert safely to numeric (invalid → NaN)\n",
    "df_business[\"stop\"] = pd.to_numeric(df_business[\"stop\"], errors=\"coerce\")\n",
    "\n",
    "# Save\n",
    "df_business.to_csv(\"economy_cleaned.csv\", index=False)\n",
    "\n",
    "print(df_business[\"stop\"].unique()[:20])  # show first 20 unique cleaned values\n",
    "print(df_business[\"stop\"].value_counts())"
   ]
  }
 ],
 "metadata": {
  "kernelspec": {
   "display_name": "Python 3",
   "language": "python",
   "name": "python3"
  },
  "language_info": {
   "codemirror_mode": {
    "name": "ipython",
    "version": 3
   },
   "file_extension": ".py",
   "mimetype": "text/x-python",
   "name": "python",
   "nbconvert_exporter": "python",
   "pygments_lexer": "ipython3",
   "version": "3.13.7"
  }
 },
 "nbformat": 4,
 "nbformat_minor": 5
}
